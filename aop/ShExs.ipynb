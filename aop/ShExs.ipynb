{
 "cells": [
  {
   "cell_type": "markdown",
   "metadata": {},
   "source": [
    "# Using ShEx with PyShExs\n",
    "## 1. Local file, all subjects"
   ]
  },
  {
   "cell_type": "code",
   "execution_count": 15,
   "metadata": {},
   "outputs": [],
   "source": [
    "import rdflib\n",
    "from pyshex.shex_evaluator import ShExEvaluator\n",
    "from pyshex.user_agent import SlurpyGraphWithAgent\n",
    "from pyshex.utils.sparql_query import SPARQLQuery"
   ]
  },
  {
   "cell_type": "markdown",
   "metadata": {},
   "source": [
    "### Open local file"
   ]
  },
  {
   "cell_type": "code",
   "execution_count": 29,
   "metadata": {},
   "outputs": [],
   "source": [
    "var = open('aop.ttl', 'r').read()"
   ]
  },
  {
   "cell_type": "markdown",
   "metadata": {},
   "source": [
    "### Find all subjects"
   ]
  },
  {
   "cell_type": "code",
   "execution_count": 30,
   "metadata": {},
   "outputs": [
    {
     "name": "stdout",
     "output_type": "stream",
     "text": [
      "{rdflib.term.URIRef('http://identifiers.org/aop.relationships/597'), rdflib.term.URIRef('http://identifiers.org/aop.events/593'), rdflib.term.URIRef('http://identifiers.org/aop.events/585')}\n"
     ]
    }
   ],
   "source": [
    "g = rdflib.Graph()\n",
    "g.parse('aop.ttl', format=\"ttl\") #adapt format if necessary\n",
    "nodes = set()\n",
    "for subject, predicate, object in g.triples((None, None, None)):\n",
    "    nodes.add(subject)\n",
    "print(nodes)"
   ]
  },
  {
   "cell_type": "markdown",
   "metadata": {},
   "source": [
    "### Define Shape Expression to test on the subjects (nodes)"
   ]
  },
  {
   "cell_type": "code",
   "execution_count": 31,
   "metadata": {},
   "outputs": [],
   "source": [
    "shex = \"\"\"\n",
    "PREFIX aop.relationships: <http://identifiers.org/aop.relationships/> \n",
    "PREFIX aop.events: <http://identifiers.org/aop.events/> \n",
    "PREFIX aopo: <http://aopkb.org/aop_ontology#> \n",
    "PREFIX rdfs: <http://www.w3.org/2000/01/rdf-schema#> \n",
    "\n",
    "start = @<ker>\n",
    "<ker> {\n",
    "  aopo:has_upstream_key_event     @<ke> ;\n",
    "  aopo:has_downstream_key_event   @<ke>\n",
    "}\n",
    "\n",
    "<ke> {\n",
    "   a [ aopo:KeyEvent ]\n",
    "}\"\"\""
   ]
  },
  {
   "cell_type": "markdown",
   "metadata": {},
   "source": [
    "### Execute"
   ]
  },
  {
   "cell_type": "code",
   "execution_count": 32,
   "metadata": {},
   "outputs": [
    {
     "name": "stdout",
     "output_type": "stream",
     "text": [
      "http://identifiers.org/aop.relationships/597: PASS\n",
      "http://identifiers.org/aop.events/593: FAIL:   Testing aop.events:593 against shape ker\n",
      "       No matching triples found for predicate aopo:has_upstream_key_event\n",
      "http://identifiers.org/aop.events/585: FAIL:   Testing aop.events:585 against shape ker\n",
      "       No matching triples found for predicate aopo:has_upstream_key_event\n"
     ]
    }
   ],
   "source": [
    "result = ShExEvaluator(var, shex, nodes).evaluate()\n",
    "\n",
    "for r in result:\n",
    "    print(f\"{r.focus}: \", end=\"\")\n",
    "    if not r.result:\n",
    "        print(f\"FAIL: {r.reason}\")\n",
    "    else:\n",
    "        print(\"PASS\")"
   ]
  },
  {
   "cell_type": "markdown",
   "metadata": {},
   "source": [
    "## 2. SPARQL endpoint, selected subjects"
   ]
  },
  {
   "cell_type": "code",
   "execution_count": 10,
   "metadata": {},
   "outputs": [],
   "source": [
    "from pyshex.shex_evaluator import ShExEvaluator\n",
    "from pyshex.user_agent import SlurpyGraphWithAgent\n",
    "from pyshex.utils.sparql_query import SPARQLQuery"
   ]
  },
  {
   "cell_type": "markdown",
   "metadata": {},
   "source": [
    "### Define the SPARQL endpoint URL"
   ]
  },
  {
   "cell_type": "code",
   "execution_count": 11,
   "metadata": {},
   "outputs": [],
   "source": [
    "endpoint = 'http://aopwiki-rdf.prod.openrisknet.org/sparql/'"
   ]
  },
  {
   "cell_type": "markdown",
   "metadata": {},
   "source": [
    "### Define the SPARQL query to extract subjects to test on with the ShExs"
   ]
  },
  {
   "cell_type": "code",
   "execution_count": 12,
   "metadata": {},
   "outputs": [],
   "source": [
    "sparql = \"\"\"\n",
    "PREFIX aop.relationships: <http://identifiers.org/aop.relationships/> \n",
    "PREFIX aop.events: <http://identifiers.org/aop.events/> \n",
    "PREFIX aopo: <http://aopkb.org/aop_ontology#> \n",
    "SELECT DISTINCT ?item WHERE {\n",
    "  ?item rdf:type aopo:KeyEventRelationship\n",
    "}\n",
    "LIMIT 20\n",
    "\"\"\""
   ]
  },
  {
   "cell_type": "markdown",
   "metadata": {},
   "source": [
    "### Define Shape Expression to test on the subjects (nodes)"
   ]
  },
  {
   "cell_type": "code",
   "execution_count": 13,
   "metadata": {},
   "outputs": [],
   "source": [
    "shex = \"\"\"\n",
    "PREFIX aop.relationships: <http://identifiers.org/aop.relationships/> \n",
    "PREFIX aop.events: <http://identifiers.org/aop.events/> \n",
    "PREFIX aopo: <http://aopkb.org/aop_ontology#> \n",
    "PREFIX rdfs: <http://www.w3.org/2000/01/rdf-schema#> \n",
    "\n",
    "start = @<ker>\n",
    "<ker> {\n",
    "  aopo:has_upstream_key_event     @<ke> ;\n",
    "  aopo:has_downstream_key_event   @<ke>\n",
    "}\n",
    "\n",
    "<ke> {\n",
    "   a [ aopo:KeyEvent ]\n",
    "}\"\"\""
   ]
  },
  {
   "cell_type": "markdown",
   "metadata": {},
   "source": [
    "### Execute"
   ]
  },
  {
   "cell_type": "code",
   "execution_count": 14,
   "metadata": {},
   "outputs": [
    {
     "name": "stdout",
     "output_type": "stream",
     "text": [
      "http://identifiers.org/aop.relationships/1017: PASS\n",
      "http://identifiers.org/aop.relationships/1023: PASS\n",
      "http://identifiers.org/aop.relationships/1024: PASS\n",
      "http://identifiers.org/aop.relationships/1026: PASS\n",
      "http://identifiers.org/aop.relationships/1027: PASS\n",
      "http://identifiers.org/aop.relationships/1034: PASS\n",
      "http://identifiers.org/aop.relationships/1035: PASS\n",
      "http://identifiers.org/aop.relationships/1036: PASS\n",
      "http://identifiers.org/aop.relationships/1037: PASS\n",
      "http://identifiers.org/aop.relationships/1039: PASS\n",
      "http://identifiers.org/aop.relationships/1041: PASS\n",
      "http://identifiers.org/aop.relationships/1042: PASS\n",
      "http://identifiers.org/aop.relationships/1044: PASS\n",
      "http://identifiers.org/aop.relationships/1069: PASS\n",
      "http://identifiers.org/aop.relationships/1070: PASS\n",
      "http://identifiers.org/aop.relationships/1143: PASS\n",
      "http://identifiers.org/aop.relationships/1268: PASS\n",
      "http://identifiers.org/aop.relationships/1269: PASS\n",
      "http://identifiers.org/aop.relationships/1271: PASS\n",
      "http://identifiers.org/aop.relationships/129: PASS\n"
     ]
    }
   ],
   "source": [
    "result = ShExEvaluator(SlurpyGraphWithAgent(endpoint),\n",
    "                       shex,\n",
    "                       SPARQLQuery(endpoint, sparql).focus_nodes()).evaluate()\n",
    "for r in result:\n",
    "    print(f\"{r.focus}: \", end=\"\")\n",
    "    if not r.result:\n",
    "        print(f\"FAIL: {r.reason}\")\n",
    "    else:\n",
    "        print(\"PASS\")"
   ]
  },
  {
   "cell_type": "code",
   "execution_count": null,
   "metadata": {},
   "outputs": [],
   "source": []
  }
 ],
 "metadata": {
  "kernelspec": {
   "display_name": "Python 3",
   "language": "python",
   "name": "python3"
  },
  "language_info": {
   "codemirror_mode": {
    "name": "ipython",
    "version": 3
   },
   "file_extension": ".py",
   "mimetype": "text/x-python",
   "name": "python",
   "nbconvert_exporter": "python",
   "pygments_lexer": "ipython3",
   "version": "3.7.3"
  },
  "pycharm": {
   "stem_cell": {
    "cell_type": "raw",
    "metadata": {
     "collapsed": false
    },
    "source": []
   }
  }
 },
 "nbformat": 4,
 "nbformat_minor": 2
}
